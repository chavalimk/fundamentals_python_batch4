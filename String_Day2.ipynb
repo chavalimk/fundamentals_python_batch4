{
 "cells": [
  {
   "cell_type": "code",
   "execution_count": 5,
   "metadata": {},
   "outputs": [
    {
     "name": "stdout",
     "output_type": "stream",
     "text": [
      "tony stark\n",
      "Tony Stark\n",
      "TONY STARK\n",
      "tony stark\n"
     ]
    }
   ],
   "source": [
    "#Built-in Functions.\n",
    "name='tony stark'\n",
    "print(name)\n",
    "print(name.title())\n",
    "print(name.upper())\n",
    "print(name.lower())"
   ]
  },
  {
   "cell_type": "code",
   "execution_count": 6,
   "metadata": {},
   "outputs": [
    {
     "name": "stdout",
     "output_type": "stream",
     "text": [
      "Manoj Ch \n"
     ]
    }
   ],
   "source": [
    "#Using of Place Holders by using f String: Also called Dynamic allocation!!\n",
    "first_name='Manoj'\n",
    "last_name='Ch'\n",
    "full_name=f\"{first_name} {last_name}\"\n",
    "print(full_name)\n"
   ]
  },
  {
   "cell_type": "code",
   "execution_count": 8,
   "metadata": {},
   "outputs": [
    {
     "name": "stdout",
     "output_type": "stream",
     "text": [
      "languages:\n",
      "python\n",
      "c\n",
      "c++\n",
      "java\n",
      "ML\n"
     ]
    }
   ],
   "source": [
    "#Using tab or new line.\n",
    "print('languages:\\npython\\nc\\nc++\\njava\\nML')"
   ]
  },
  {
   "cell_type": "code",
   "execution_count": null,
   "metadata": {},
   "outputs": [],
   "source": []
  }
 ],
 "metadata": {
  "kernelspec": {
   "display_name": "Python 3",
   "language": "python",
   "name": "python3"
  },
  "language_info": {
   "codemirror_mode": {
    "name": "ipython",
    "version": 3
   },
   "file_extension": ".py",
   "mimetype": "text/x-python",
   "name": "python",
   "nbconvert_exporter": "python",
   "pygments_lexer": "ipython3",
   "version": "3.7.3"
  }
 },
 "nbformat": 4,
 "nbformat_minor": 2
}
