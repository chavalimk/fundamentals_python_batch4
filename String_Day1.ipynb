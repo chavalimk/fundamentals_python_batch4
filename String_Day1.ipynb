{
 "cells": [
  {
   "cell_type": "code",
   "execution_count": 4,
   "metadata": {},
   "outputs": [
    {
     "name": "stdout",
     "output_type": "stream",
     "text": [
      "mango\n"
     ]
    }
   ],
   "source": [
    "s ='mango';\n",
    "print (s);"
   ]
  },
  {
   "cell_type": "code",
   "execution_count": 9,
   "metadata": {},
   "outputs": [
    {
     "name": "stdout",
     "output_type": "stream",
     "text": [
      "man\n",
      "an\n",
      "o\n",
      "an\n"
     ]
    }
   ],
   "source": [
    "#Requirement to print man and an from mango.\n",
    "#Intro to Indexing --- mango ->[0,1,2,3,4] ->[-5,-4-3,-2,-1]\n",
    "x='mango'\n",
    "print (x[0:3])\n",
    "print (x[1:3])"
   ]
  },
  {
   "cell_type": "code",
   "execution_count": 10,
   "metadata": {},
   "outputs": [
    {
     "name": "stdout",
     "output_type": "stream",
     "text": [
      "o\n",
      "an\n"
     ]
    }
   ],
   "source": [
    "#-ve Indexing mango->[-5,-4-3,-2,-1]\n",
    "print (x[-1])\n",
    "print (x[-4:-2])"
   ]
  },
  {
   "cell_type": "code",
   "execution_count": 13,
   "metadata": {},
   "outputs": [
    {
     "name": "stdout",
     "output_type": "stream",
     "text": [
      "hell\n",
      "world\n"
     ]
    }
   ],
   "source": [
    "s='hello world'\n",
    "#print hell without giving start value.\n",
    "print (s[:4])\n",
    "#print only world without end value.\n",
    "print (s[6:])"
   ]
  },
  {
   "cell_type": "code",
   "execution_count": null,
   "metadata": {},
   "outputs": [],
   "source": []
  }
 ],
 "metadata": {
  "kernelspec": {
   "display_name": "Python 3",
   "language": "python",
   "name": "python3"
  },
  "language_info": {
   "codemirror_mode": {
    "name": "ipython",
    "version": 3
   },
   "file_extension": ".py",
   "mimetype": "text/x-python",
   "name": "python",
   "nbconvert_exporter": "python",
   "pygments_lexer": "ipython3",
   "version": "3.7.3"
  }
 },
 "nbformat": 4,
 "nbformat_minor": 2
}
