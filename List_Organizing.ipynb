{
 "cells": [
  {
   "cell_type": "code",
   "execution_count": 2,
   "metadata": {},
   "outputs": [
    {
     "name": "stdout",
     "output_type": "stream",
     "text": [
      "['hero', 'bmw']\n"
     ]
    }
   ],
   "source": [
    "#Remove\n",
    "a=['hero','ducati','bmw']\n",
    "a.remove('ducati')\n",
    "print(a)"
   ]
  },
  {
   "cell_type": "code",
   "execution_count": 15,
   "metadata": {},
   "outputs": [
    {
     "name": "stdout",
     "output_type": "stream",
     "text": [
      "['bmw', 'jaguar', 'maruti', 'tata']\n"
     ]
    }
   ],
   "source": [
    "#Sort alphabetical\n",
    "cars=['maruti','tata','bmw','jaguar']\n",
    "cars.sort()\n",
    "print(cars) #permanent sort"
   ]
  },
  {
   "cell_type": "code",
   "execution_count": 11,
   "metadata": {},
   "outputs": [
    {
     "name": "stdout",
     "output_type": "stream",
     "text": [
      "['bajaj', 'hero honda', 'ktm', 'royal enfield']\n",
      "['ktm', 'royal enfield', 'hero honda', 'bajaj']\n"
     ]
    }
   ],
   "source": [
    "bikes=['ktm','royal enfield','hero honda','bajaj']\n",
    "print (sorted(bikes)) #Temporary sort\n",
    "print(bikes)"
   ]
  },
  {
   "cell_type": "code",
   "execution_count": 6,
   "metadata": {},
   "outputs": [
    {
     "name": "stdout",
     "output_type": "stream",
     "text": [
      "['bajaj', 'hero honda', 'royal enfield', 'ktm']\n"
     ]
    }
   ],
   "source": [
    "#Reverse the list\n",
    "bikes.reverse()\n",
    "print(bikes)"
   ]
  },
  {
   "cell_type": "code",
   "execution_count": 12,
   "metadata": {},
   "outputs": [
    {
     "data": {
      "text/plain": [
       "4"
      ]
     },
     "execution_count": 12,
     "metadata": {},
     "output_type": "execute_result"
    }
   ],
   "source": [
    "#Total list count.\n",
    "len(bikes)"
   ]
  },
  {
   "cell_type": "code",
   "execution_count": null,
   "metadata": {},
   "outputs": [],
   "source": []
  }
 ],
 "metadata": {
  "kernelspec": {
   "display_name": "Python 3",
   "language": "python",
   "name": "python3"
  },
  "language_info": {
   "codemirror_mode": {
    "name": "ipython",
    "version": 3
   },
   "file_extension": ".py",
   "mimetype": "text/x-python",
   "name": "python",
   "nbconvert_exporter": "python",
   "pygments_lexer": "ipython3",
   "version": "3.7.3"
  }
 },
 "nbformat": 4,
 "nbformat_minor": 2
}
